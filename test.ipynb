{
 "cells": [
  {
   "cell_type": "code",
   "execution_count": 8,
   "metadata": {},
   "outputs": [],
   "source": [
    "from API.generative_ai import GenAI\n",
    "from API.speech_to_text import SpeechToText\n",
    "from API.text_to_speech import TextToSpeech\n",
    "import os\n",
    "import winsound\n",
    "import re\n",
    "\n",
    "import sounddevice as sd\n",
    "from scipy.io.wavfile import write"
   ]
  },
  {
   "cell_type": "code",
   "execution_count": 9,
   "metadata": {},
   "outputs": [
    {
     "data": {
      "text/plain": [
       "'Hai! Apa kabar? UniPal di sini, teman baik kamu untuk urusan informasi seputar kampus. Apa yang kamu ingin ketahui? 😄 \\n\\nAtau, apa yang ingin kamu tanyakan? 🤔  Aku siap membantu kamu mencari informasi apa pun tentang kampus, dari jadwal kuliah sampai dengan syarat lulus. Jangan ragu untuk bertanya, ya!  😁'"
      ]
     },
     "execution_count": 9,
     "metadata": {},
     "output_type": "execute_result"
    }
   ],
   "source": [
    "genAI = GenAI()\n",
    "stt = SpeechToText()\n",
    "tts = TextToSpeech()\n",
    "genAI.initialize()"
   ]
  },
  {
   "cell_type": "code",
   "execution_count": 11,
   "metadata": {},
   "outputs": [
    {
     "ename": "TypeError",
     "evalue": "SpeechToText.recognize() takes 2 positional arguments but 3 were given",
     "output_type": "error",
     "traceback": [
      "\u001b[1;31m---------------------------------------------------------------------------\u001b[0m",
      "\u001b[1;31mTypeError\u001b[0m                                 Traceback (most recent call last)",
      "Cell \u001b[1;32mIn[11], line 9\u001b[0m\n\u001b[0;32m      6\u001b[0m sd\u001b[38;5;241m.\u001b[39mwait()\n\u001b[0;32m      7\u001b[0m write(\u001b[38;5;124m\"\u001b[39m\u001b[38;5;124mCache/input.wav\u001b[39m\u001b[38;5;124m\"\u001b[39m, sample_rate, record_voice)\n\u001b[1;32m----> 9\u001b[0m user_stt \u001b[38;5;241m=\u001b[39m \u001b[43mstt\u001b[49m\u001b[38;5;241;43m.\u001b[39;49m\u001b[43mrecognize\u001b[49m\u001b[43m(\u001b[49m\u001b[38;5;124;43m\"\u001b[39;49m\u001b[38;5;124;43mCache/input.wav\u001b[39;49m\u001b[38;5;124;43m\"\u001b[39;49m\u001b[43m,\u001b[49m\u001b[43m \u001b[49m\u001b[43msample_rate\u001b[49m\u001b[43m)\u001b[49m\n\u001b[0;32m     10\u001b[0m stt_results \u001b[38;5;241m=\u001b[39m user_stt\u001b[38;5;241m.\u001b[39mresults[\u001b[38;5;241m0\u001b[39m]\n\u001b[0;32m     11\u001b[0m user_input \u001b[38;5;241m=\u001b[39m stt_results\u001b[38;5;241m.\u001b[39malternatives[\u001b[38;5;241m0\u001b[39m]\u001b[38;5;241m.\u001b[39mtranscript\n",
      "\u001b[1;31mTypeError\u001b[0m: SpeechToText.recognize() takes 2 positional arguments but 3 were given"
     ]
    }
   ],
   "source": [
    "sample_rate = 16000\n",
    "time = 3\n",
    "\n",
    "while True :\n",
    "    record_voice = sd.rec(int(time * sample_rate), samplerate=sample_rate, channels=2)\n",
    "    sd.wait()\n",
    "    write(\"Cache/input.wav\", sample_rate, record_voice)\n",
    "    \n",
    "    user_stt = stt.recognize(\"Cache/input.wav\", sample_rate)\n",
    "    stt_results = user_stt.results[0]\n",
    "    user_input = stt_results.alternatives[0].transcript\n",
    "    response = genAI.send_message(user_input)\n",
    "    response_enc = response.encode(\"ascii\", \"ignore\")\n",
    "    response_decode = response_enc.decode()\n",
    "    print(response_decode)\n",
    "    audio_response = tts.generate(response_decode)\n",
    "    with open(\"Cache/output.wav\", \"wb\") as out :\n",
    "        out.write(audio_response)\n",
    "    \n",
    "    # Play Audio\n",
    "    winsound.PlaySound(\"Cache/output.wav\", winsound.SND_FILENAME)"
   ]
  },
  {
   "cell_type": "code",
   "execution_count": null,
   "metadata": {},
   "outputs": [],
   "source": []
  }
 ],
 "metadata": {
  "kernelspec": {
   "display_name": "env",
   "language": "python",
   "name": "python3"
  },
  "language_info": {
   "codemirror_mode": {
    "name": "ipython",
    "version": 3
   },
   "file_extension": ".py",
   "mimetype": "text/x-python",
   "name": "python",
   "nbconvert_exporter": "python",
   "pygments_lexer": "ipython3",
   "version": "3.12.3"
  }
 },
 "nbformat": 4,
 "nbformat_minor": 2
}
