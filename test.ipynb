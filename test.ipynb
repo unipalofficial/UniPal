{
 "cells": [
  {
   "cell_type": "code",
   "execution_count": 7,
   "metadata": {},
   "outputs": [],
   "source": [
    "from API.generative_ai import GenAI\n",
    "from API.speech_to_text import SpeechToText\n",
    "from API.text_to_speech import TextToSpeech\n",
    "import os\n",
    "import winsound\n",
    "import re\n",
    "\n",
    "# import sounddevice as sd\n",
    "# from scipy.io.wavfile import write"
   ]
  },
  {
   "cell_type": "code",
   "execution_count": null,
   "metadata": {},
   "outputs": [],
   "source": [
    "genAI = GenAI()\n",
    "stt = SpeechToText()\n",
    "tts = TextToSpeech()\n",
    "genAI.initialize()"
   ]
  },
  {
   "cell_type": "code",
   "execution_count": 8,
   "metadata": {},
   "outputs": [
    {
     "data": {
      "text/plain": [
       "'hello.'"
      ]
     },
     "execution_count": 8,
     "metadata": {},
     "output_type": "execute_result"
    }
   ],
   "source": [
<<<<<<< HEAD
    "re.sub(r'[^a-zA-Z0-9 ,?!\\.]+', '', '* hello. *').strip()"
   ]
  },
  {
   "cell_type": "code",
   "execution_count": null,
   "metadata": {},
   "outputs": [],
   "source": [
=======
    "sample_rate = 16000\n",
    "time = 3\n",
    "\n",
>>>>>>> de84db142cb59b0a76c53f77f0e61423cb7892ef
    "while True :\n",
    "    record_voice = sd.rec(int(time * sample_rate), samplerate=sample_rate, channels=2)\n",
    "    sd.wait()\n",
    "    write(\"Cache/input.wav\", sample_rate, record_voice)\n",
    "    \n",
    "    user_stt = stt.recognize(\"Cache/input.wav\", sample_rate)\n",
    "    stt_results = user_stt.results[0]\n",
    "    user_input = stt_results.alternatives[0].transcript\n",
    "    response = genAI.send_message(user_input)\n",
    "    response = re.sub(r'[a-zA-Z0-9 ,?!\\.]+')\n",
    "    print(response)\n",
    "    audio_response = tts.generate(response)\n",
    "    with open(\"Cache/output.wav\", \"wb\") as out :\n",
    "        out.write(audio_response)\n",
    "    \n",
    "    # Play Audio\n",
    "    # winsound.PlaySound(\"Cache/output.wav\", winsound.SND_FILENAME)"
   ]
  },
  {
   "cell_type": "code",
   "execution_count": null,
   "metadata": {},
   "outputs": [],
   "source": []
  }
 ],
 "metadata": {
  "kernelspec": {
   "display_name": "env",
   "language": "python",
   "name": "python3"
  },
  "language_info": {
   "codemirror_mode": {
    "name": "ipython",
    "version": 3
   },
   "file_extension": ".py",
   "mimetype": "text/x-python",
   "name": "python",
   "nbconvert_exporter": "python",
   "pygments_lexer": "ipython3",
   "version": "3.11.1"
  }
 },
 "nbformat": 4,
 "nbformat_minor": 2
}
