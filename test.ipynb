{
 "cells": [
  {
   "cell_type": "code",
   "execution_count": 11,
   "metadata": {},
   "outputs": [],
   "source": [
    "from API.generative_ai import GenAI\n",
    "from API.speech_to_text import SpeechToText\n",
    "from API.text_to_speech import TextToSpeech\n",
    "import os\n",
    "import winsound\n",
    "import re\n",
    "\n",
    "import sounddevice as sd\n",
    "from scipy.io.wavfile import write"
   ]
  },
  {
   "cell_type": "code",
   "execution_count": 12,
   "metadata": {},
   "outputs": [
    {
     "data": {
      "text/plain": [
       "'Hai! UniPal di sini, siap membantu kamu dengan informasi seputar dunia perkuliahan. Apa yang ingin kamu tanyakan hari ini? 😊  \\n\\nKamu lagi pengen tahu tentang jadwal kuliah? Atau mungkin ingin cari informasi tentang Himpunan Mahasiswa?  Atau kamu mau tahu tentang persyaratan kelulusan? 🥰\\n\\nApapun itu, jangan ragu untuk bertanya!'"
      ]
     },
     "execution_count": 12,
     "metadata": {},
     "output_type": "execute_result"
    }
   ],
   "source": [
    "genAI = GenAI()\n",
    "stt = SpeechToText()\n",
    "tts = TextToSpeech()\n",
    "genAI.initialize()"
   ]
  },
  {
   "cell_type": "code",
   "execution_count": 13,
   "metadata": {},
   "outputs": [
    {
     "name": "stdout",
     "output_type": "stream",
     "text": [
      "Halo! Senang bertemu denganmu! Apa yang ingin kamu tanyakan tentang BINUS University?\n",
      "BINUS University adalah sebuah universitas swasta di Indonesia yang terkenal dengan program pendidikannya yang berkualitas dan inovatif. \n",
      "\n",
      "Kamu ingin tahu lebih spesifik tentang apa? Misalnya, kamu ingin tahu tentang jurusan apa saja yang tersedia di BINUS University? Atau mungkin kamu penasaran tentang kampus BINUS University seperti apa? \n",
      "\n",
      "Silahkan tanya saja, UniPal siap membantu!\n",
      "Wah, itu pertanyaan yang bagus! Memang, banyak alasan kenapa orang memilih untuk kuliah di BINUS University. \n",
      "\n",
      "Beberapa alasan yang paling umum adalah:\n",
      "\n",
      "* **Kualitas Pendidikan:** BINUS University terkenal dengan program pendidikannya yang berkualitas dan inovatif. Mereka menawarkan berbagai pilihan jurusan yang menarik dan relevan dengan kebutuhan pasar kerja.\n",
      "* **Fasilitas Modern:** BINUS University memiliki fasilitas yang lengkap dan modern untuk menunjang proses belajar mengajar. \n",
      "* **Peluang Karir:** BINUS University memiliki jaringan alumni yang kuat dan kerjasama dengan industri, sehingga memudahkan para lulusannya untuk mendapatkan pekerjaan. \n",
      "* **Pengalaman Internasional:** BINUS University memiliki program pertukaran pelajar dengan universitas di luar negeri, sehingga mahasiswa bisa mendapatkan pengalaman belajar di luar negeri.\n",
      "\n",
      "Kamu ada alasan lain yang kamu ingin ketahui?\n"
     ]
    }
   ],
   "source": [
    "while True :\n",
    "    user_input = input(\"User : \")\n",
    "    response = genAI.send_message(user_input)\n",
    "    response_enc = response.encode(\"ascii\", \"ignore\")\n",
    "    response_decode = response_enc.decode()\n",
    "    print(response_decode)\n",
    "    audio_response = tts.generate(response_decode)\n",
    "    with open(\"Cache/output.wav\", \"wb\") as out :\n",
    "        out.write(audio_response)\n",
    "    \n",
    "    # Play Audio\n",
    "    winsound.PlaySound(\"Cache/output.wav\", winsound.SND_FILENAME)"
   ]
  },
  {
   "cell_type": "code",
   "execution_count": null,
   "metadata": {},
   "outputs": [],
   "source": []
  }
 ],
 "metadata": {
  "kernelspec": {
   "display_name": "env",
   "language": "python",
   "name": "python3"
  },
  "language_info": {
   "codemirror_mode": {
    "name": "ipython",
    "version": 3
   },
   "file_extension": ".py",
   "mimetype": "text/x-python",
   "name": "python",
   "nbconvert_exporter": "python",
   "pygments_lexer": "ipython3",
   "version": "3.12.3"
  }
 },
 "nbformat": 4,
 "nbformat_minor": 2
}
