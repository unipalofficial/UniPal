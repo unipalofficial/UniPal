{
 "cells": [
  {
   "cell_type": "code",
   "execution_count": 2,
   "metadata": {},
   "outputs": [
    {
     "name": "stderr",
     "output_type": "stream",
     "text": [
      "c:\\Users\\steam\\OneDrive\\Desktop\\Coding Kuliah\\Python\\PKM\\Karsa Cipta\\UniPal\\UniPal\\env\\Lib\\site-packages\\tqdm\\auto.py:21: TqdmWarning: IProgress not found. Please update jupyter and ipywidgets. See https://ipywidgets.readthedocs.io/en/stable/user_install.html\n",
      "  from .autonotebook import tqdm as notebook_tqdm\n"
     ]
    }
   ],
   "source": [
    "from API.generative_ai import GenAI\n",
    "from API.speech_to_text import SpeechToText\n",
    "from API.text_to_speech import TextToSpeech\n",
    "import os\n",
    "import winsound\n",
    "import re\n",
    "\n",
    "# import sounddevice as sd\n",
    "# from scipy.io.wavfile import write"
   ]
  },
  {
   "cell_type": "code",
   "execution_count": 3,
   "metadata": {},
   "outputs": [
    {
     "data": {
      "text/plain": [
       "'HALOO!!! HEHE'"
      ]
     },
     "execution_count": 3,
     "metadata": {},
     "output_type": "execute_result"
    }
   ],
   "source": [
    "re.sub(r'\\*', '', 'HALOO!!! *HEHE*').strip()"
   ]
  },
  {
   "cell_type": "code",
   "execution_count": null,
   "metadata": {},
   "outputs": [],
   "source": [
    "while True :\n",
    "    user_input = input(\"User : \")\n",
    "    response = genAI.send_message(user_input)\n",
    "    response = re.sub(r'[^a-zA-Z0-9 ,?!\\./:]+', '', response).strip()\n",
    "    print(response)\n",
    "    audio_response = tts.generate(response)\n",
    "    with open(\"Cache/output.wav\", \"wb\") as out :\n",
    "        out.write(audio_response)\n",
    "    \n",
    "    # Play Audio\n",
    "    # winsound.PlaySound(\"Cache/output.wav\", winsound.SND_FILENAME)"
   ]
  },
  {
   "cell_type": "code",
   "execution_count": null,
   "metadata": {},
   "outputs": [],
   "source": []
  }
 ],
 "metadata": {
  "kernelspec": {
   "display_name": "env",
   "language": "python",
   "name": "python3"
  },
  "language_info": {
   "codemirror_mode": {
    "name": "ipython",
    "version": 3
   },
   "file_extension": ".py",
   "mimetype": "text/x-python",
   "name": "python",
   "nbconvert_exporter": "python",
   "pygments_lexer": "ipython3",
   "version": "3.12.4"
  }
 },
 "nbformat": 4,
 "nbformat_minor": 2
}
